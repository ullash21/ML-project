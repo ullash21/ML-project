{
 "cells": [
  {
   "cell_type": "code",
   "execution_count": 51,
   "metadata": {},
   "outputs": [],
   "source": [
    "import pandas as pd\n",
    "from collections import defaultdict\n",
    "class Transmission:\n",
    "    def __init__(self,train):\n",
    "        self.transmission=None  #pandas table containing all state u-> v probabilities and counts\n",
    "        self.count=None #dictionary containing all u counts\n",
    "        self.readTrain(train)\n",
    "    def readTrain(self,train):\n",
    "        file=open(train,'r',encoding='utf8')\n",
    "        yseq=['START']\n",
    "        for line in file:\n",
    "            xy=line.split(' ')\n",
    "            if len(xy)<=1:\n",
    "                yseq.append('END')\n",
    "                yseq.append('START')\n",
    "                continue\n",
    "            x,y=xy\n",
    "            x=x.strip()\n",
    "            y=y.strip()\n",
    "            yseq.append(y)\n",
    "        file.close()\n",
    "        del yseq[-1]#delete the last 'start' tag from the sequence\n",
    "        transDict = defaultdict(int)\n",
    "        countDict= defaultdict(int)\n",
    "        for i in range(len(yseq)-1):\n",
    "            u=yseq[i]\n",
    "            countDict[u]+=1\n",
    "            if u=='END':\n",
    "                continue\n",
    "            v=yseq[i+1]\n",
    "            if(u=='START' and v=='END'):#blank line detect\n",
    "                countDict['START']-=1#remove extra count\n",
    "                break\n",
    "            transDict[(u,v)]+=1\n",
    "        self.transmission=pd.DataFrame([(i[0], i[1], j) for i, j in transDict.items()],columns=['u','v','Count'])\n",
    "        self.count=pd.DataFrame([(i, j) for i, j in countDict.items()],columns=['u','GCount'])\n",
    "        self.genprob()\n",
    "    def genprob(self):\n",
    "        self.transmission=pd.merge(self.transmission, self.count, on='u')\n",
    "        #print(self.transmission.head(2))\n",
    "        #print(self.count.head(2))\n",
    "        self.transmission['transmission']=self.transmission['Count']/self.transmission['GCount']\n",
    "        self.transmission.drop(['GCount'], axis=1)\n",
    "        \n",
    "    def transmission_proba(self,u,v):\n",
    "        return self.transmission.loc[(self.transmission['u'] == u) & (self.transmission['v'] == v)]['transmission'][0]"
   ]
  },
  {
   "cell_type": "code",
   "execution_count": 52,
   "metadata": {},
   "outputs": [
    {
     "name": "stdout",
     "output_type": "stream",
     "text": [
      "0.6480490669450607\n"
     ]
    }
   ],
   "source": [
    "EN_transmission = Transmission('./EN/train')\n",
    "print(EN_transmission.transmission_proba('START','B-NP'))\n",
    "#print(EN_transmission.transmission_proba('B-NP','END'))\n",
    "#print(EN_transmission.transmission_proba('START','START'))"
   ]
  },
  {
   "cell_type": "code",
   "execution_count": null,
   "metadata": {},
   "outputs": [],
   "source": []
  }
 ],
 "metadata": {
  "kernelspec": {
   "display_name": "Python 3",
   "language": "python",
   "name": "python3"
  },
  "language_info": {
   "codemirror_mode": {
    "name": "ipython",
    "version": 3
   },
   "file_extension": ".py",
   "mimetype": "text/x-python",
   "name": "python",
   "nbconvert_exporter": "python",
   "pygments_lexer": "ipython3",
   "version": "3.7.4"
  }
 },
 "nbformat": 4,
 "nbformat_minor": 2
}
